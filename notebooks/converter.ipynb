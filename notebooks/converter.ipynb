{
 "cells": [
  {
   "cell_type": "code",
   "execution_count": 50,
   "id": "integral-crest",
   "metadata": {},
   "outputs": [],
   "source": [
    "import fitz\n",
    "import re"
   ]
  },
  {
   "cell_type": "code",
   "execution_count": 3,
   "id": "wanted-bishop",
   "metadata": {},
   "outputs": [],
   "source": [
    "filename = \"test_calendar.pdf\"\n",
    "doc = fitz.open(filename)"
   ]
  },
  {
   "cell_type": "code",
   "execution_count": 4,
   "id": "human-morocco",
   "metadata": {},
   "outputs": [],
   "source": [
    "page = doc[0]"
   ]
  },
  {
   "cell_type": "code",
   "execution_count": null,
   "id": "regional-index",
   "metadata": {},
   "outputs": [],
   "source": [
    "# for drawing in page.getDrawings():\n",
    "#     if drawing[\"fill\"] == [0.9882349967956543, 0.6705880165100098, 0.450980007648468] and drawing[\"rect\"][2] - drawing[\"rect\"][0] > 10:\n",
    "#         print(drawing"
   ]
  },
  {
   "cell_type": "code",
   "execution_count": 39,
   "id": "fluid-channel",
   "metadata": {},
   "outputs": [],
   "source": [
    "# page.get_text('dict')[\"blocks\"]"
   ]
  },
  {
   "cell_type": "code",
   "execution_count": 37,
   "id": "scheduled-prince",
   "metadata": {},
   "outputs": [],
   "source": [
    "#dates\n",
    "\n",
    "MONTHS_MAP = {\n",
    "    \"ראוני\":\"Jan\",\n",
    "    \"ראורבפ\":\"Feb\",\n",
    "    \"ץרמ\":\"Mar\",\n",
    "    \"לירפא\":\"Apr\",\n",
    "    \"יאמ\":\"May\",\n",
    "    \"ינוי\":\"Jun\",\n",
    "    \"ילוי\":\"Jul\",\n",
    "    \"טסוגוא\":\"Aug\",\n",
    "    \"רבמטפס\":\"Sep\",\n",
    "    \"רבוטקוא\":\"Oct\",\n",
    "    \"רבמבונ\":\"Nov\",\n",
    "    \"רבמצד\":\"Dec\",\n",
    "}\n",
    "regex_obj = re.compile(\"\\d+ \\S+ \\d+\")\n",
    "count = 0\n",
    "for page in doc:\n",
    "    for text_block in page.get_text('dict')[\"blocks\"]:\n",
    "        if \"lines\" not in text_block:\n",
    "            continue\n",
    "        lines = text_block[\"lines\"]\n",
    "        spans = lines[0][\"spans\"]\n",
    "        if len(spans) != 2:\n",
    "            continue\n",
    "        text = spans[1][\"text\"]\n",
    "        if not regex_obj.match(text):\n",
    "            continue\n",
    "        for word, new_word in MONTHS_MAP.items():\n",
    "            text = text.replace(word, new_word)\n",
    "        \n",
    "        count += 1"
   ]
  },
  {
   "cell_type": "code",
   "execution_count": 49,
   "id": "martial-punishment",
   "metadata": {},
   "outputs": [],
   "source": [
    "#texts\n",
    "wanted_hours = [\"07\", \"08\", \"09\", \"10\", \"11\", \"12\", \"13\", \"14\", \"15\", \"16\", \"17\", \"18\"]\n",
    "max_ind = 12\n",
    "for page in doc:\n",
    "    current_hour_ind = 0\n",
    "    hours = []\n",
    "    texts = []\n",
    "    for text_block in page.get_text('dict')[\"blocks\"]:\n",
    "        if \"lines\" not in text_block:\n",
    "            continue\n",
    "        lines = text_block[\"lines\"]\n",
    "        spans = lines[0][\"spans\"]\n",
    "        for span in spans:\n",
    "            text = span[\"text\"]\n",
    "            if current_hour_ind == max_ind:\n",
    "                texts.append(text)\n",
    "            elif wanted_hours[current_hour_ind] == text:\n",
    "                hours.append(text)\n",
    "                current_hour_ind += 1\n",
    "            else:\n",
    "                current_hour_ind = 0\n",
    "                hours = []\n",
    "    if len(hours) != 12:\n",
    "        print(\"!!!!!\")\n",
    "#         print(text, span[\"bbox\"])\n"
   ]
  },
  {
   "cell_type": "code",
   "execution_count": 47,
   "id": "activated-trout",
   "metadata": {},
   "outputs": [
    {
     "data": {
      "text/plain": [
       "7"
      ]
     },
     "execution_count": 47,
     "metadata": {},
     "output_type": "execute_result"
    }
   ],
   "source": [
    "int(\"07\")"
   ]
  },
  {
   "cell_type": "code",
   "execution_count": null,
   "id": "rational-blend",
   "metadata": {},
   "outputs": [],
   "source": []
  }
 ],
 "metadata": {
  "kernelspec": {
   "display_name": "Python 3",
   "language": "python",
   "name": "python3"
  },
  "language_info": {
   "codemirror_mode": {
    "name": "ipython",
    "version": 3
   },
   "file_extension": ".py",
   "mimetype": "text/x-python",
   "name": "python",
   "nbconvert_exporter": "python",
   "pygments_lexer": "ipython3",
   "version": "3.8.6"
  }
 },
 "nbformat": 4,
 "nbformat_minor": 5
}
