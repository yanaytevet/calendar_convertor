{
 "cells": [
  {
   "cell_type": "code",
   "execution_count": 1,
   "id": "proper-kennedy",
   "metadata": {},
   "outputs": [],
   "source": [
    "import fitz"
   ]
  },
  {
   "cell_type": "code",
   "execution_count": 2,
   "id": "homeless-mechanics",
   "metadata": {},
   "outputs": [],
   "source": [
    "filename = \"יומן שאול סופי.pdf\"\n",
    "doc = fitz.open(filename)"
   ]
  },
  {
   "cell_type": "code",
   "execution_count": 3,
   "id": "minor-layout",
   "metadata": {},
   "outputs": [],
   "source": [
    "page = doc[0]"
   ]
  },
  {
   "cell_type": "code",
   "execution_count": 9,
   "id": "casual-cyprus",
   "metadata": {},
   "outputs": [
    {
     "name": "stdout",
     "output_type": "stream",
     "text": [
      "{'color': None, 'fill': [0.9882349967956543, 0.6705880165100098, 0.450980007648468], 'width': 1.0, 'lineJoin': 0, 'lineCap': (0, 0, 0), 'dashes': '[] 0', 'closePath': False, 'even_odd': False, 'rect': Rect(65.52000427246094, 284.6399841308594, 381.8399963378906, 330.1199951171875), 'items': [('re', Rect(65.52000427246094, 284.6399841308594, 381.8399963378906, 330.1199951171875))], 'opacity': 1.0}\n",
      "{'color': None, 'fill': [0.9882349967956543, 0.6705880165100098, 0.450980007648468], 'width': 1.0, 'lineJoin': 0, 'lineCap': (0, 0, 0), 'dashes': '[] 0', 'closePath': False, 'even_odd': False, 'rect': Rect(65.52000427246094, 330.9599914550781, 381.8399963378906, 353.2799987792969), 'items': [('re', Rect(65.52000427246094, 330.9599914550781, 381.8399963378906, 353.2799987792969))], 'opacity': 1.0}\n",
      "{'color': None, 'fill': [0.9882349967956543, 0.6705880165100098, 0.450980007648468], 'width': 1.0, 'lineJoin': 0, 'lineCap': (0, 0, 0), 'dashes': '[] 0', 'closePath': False, 'even_odd': False, 'rect': Rect(65.52000427246094, 423.5999755859375, 381.8399963378906, 469.08001708984375), 'items': [('re', Rect(65.52000427246094, 423.5999755859375, 381.8399963378906, 469.08001708984375))], 'opacity': 1.0}\n",
      "{'color': None, 'fill': [0.9882349967956543, 0.6705880165100098, 0.450980007648468], 'width': 1.0, 'lineJoin': 0, 'lineCap': (0, 0, 0), 'dashes': '[] 0', 'closePath': False, 'even_odd': False, 'rect': Rect(65.52000427246094, 469.91998291015625, 222.95999145507812, 515.4000244140625), 'items': [('re', Rect(65.52000427246094, 469.91998291015625, 222.95999145507812, 515.4000244140625))], 'opacity': 1.0}\n",
      "{'color': None, 'fill': [0.9882349967956543, 0.6705880165100098, 0.450980007648468], 'width': 1.0, 'lineJoin': 0, 'lineCap': (0, 0, 0), 'dashes': '[] 0', 'closePath': False, 'even_odd': False, 'rect': Rect(224.51998901367188, 469.91998291015625, 381.8399963378906, 492.239990234375), 'items': [('re', Rect(224.51998901367188, 469.91998291015625, 381.8399963378906, 492.239990234375))], 'opacity': 1.0}\n"
     ]
    }
   ],
   "source": [
    "# page.get_text('dict')\n",
    "# page.get_text_blocks()\n",
    "for drawing in page.getDrawings():\n",
    "    if drawing[\"fill\"] == [0.9882349967956543, 0.6705880165100098, 0.450980007648468] and drawing[\"rect\"][2] - drawing[\"rect\"][0] > 10:\n",
    "        print(drawing)"
   ]
  },
  {
   "cell_type": "code",
   "execution_count": null,
   "id": "mathematical-today",
   "metadata": {},
   "outputs": [],
   "source": []
  }
 ],
 "metadata": {
  "kernelspec": {
   "display_name": "Python 3",
   "language": "python",
   "name": "python3"
  },
  "language_info": {
   "codemirror_mode": {
    "name": "ipython",
    "version": 3
   },
   "file_extension": ".py",
   "mimetype": "text/x-python",
   "name": "python",
   "nbconvert_exporter": "python",
   "pygments_lexer": "ipython3",
   "version": "3.8.5"
  }
 },
 "nbformat": 4,
 "nbformat_minor": 5
}
